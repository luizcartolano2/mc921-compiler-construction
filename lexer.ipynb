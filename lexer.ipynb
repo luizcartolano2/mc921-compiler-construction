{
 "cells": [
  {
   "cell_type": "markdown",
   "metadata": {},
   "source": [
    "# Dúvidas\n",
    "1. Assign ou Equals?"
   ]
  },
  {
   "cell_type": "code",
   "execution_count": 74,
   "metadata": {},
   "outputs": [
    {
     "data": {
      "text/plain": [
       "<module 'tokrules' from '/Users/luizeduardocartolano/OneDrive/DUDU/Unicamp/IC/mc921/mc921-compiler-construction/tokrules.py'>"
      ]
     },
     "execution_count": 74,
     "metadata": {},
     "output_type": "execute_result"
    }
   ],
   "source": [
    "import ply.lex as lex\n",
    "import tokrules\n",
    "import importlib\n",
    "\n",
    "importlib.reload(tokrules)"
   ]
  },
  {
   "cell_type": "markdown",
   "metadata": {},
   "source": [
    "### Part 3: Build Lexer"
   ]
  },
  {
   "cell_type": "code",
   "execution_count": 75,
   "metadata": {},
   "outputs": [
    {
     "name": "stderr",
     "output_type": "stream",
     "text": [
      "WARNING: No t_error rule is defined\n"
     ]
    }
   ],
   "source": [
    "# build the lexer\n",
    "lexer = lex.lex(module=tokrules)"
   ]
  },
  {
   "cell_type": "markdown",
   "metadata": {},
   "source": [
    "### Part 4: Give input to the lexer"
   ]
  },
  {
   "cell_type": "code",
   "execution_count": 79,
   "metadata": {},
   "outputs": [],
   "source": [
    "input_lex = \"\"\"/* comment */\n",
    "int j = 3;\n",
    "int main () {\n",
    "  int i = j;\n",
    "  int k = 3;\n",
    "  int p = 2 * j;\n",
    "  assert p == 2 * i;\n",
    "  \"asdad\"\n",
    "}\"\"\""
   ]
  },
  {
   "cell_type": "code",
   "execution_count": 80,
   "metadata": {},
   "outputs": [],
   "source": [
    "# give the lexer some input\n",
    "lexer.input(input_lex)"
   ]
  },
  {
   "cell_type": "markdown",
   "metadata": {},
   "source": [
    "### Part 5: Tokenize"
   ]
  },
  {
   "cell_type": "code",
   "execution_count": 81,
   "metadata": {
    "scrolled": false
   },
   "outputs": [
    {
     "name": "stdout",
     "output_type": "stream",
     "text": [
      "LexToken(INT,'int',9,14)\n",
      "LexToken(ID,'j',9,18)\n",
      "LexToken(EQUALS,'=',9,20)\n",
      "LexToken(ICONST,'3',9,22)\n",
      "LexToken(SEMI,';',9,23)\n",
      "LexToken(INT,'int',10,25)\n",
      "LexToken(ID,'main',10,29)\n",
      "LexToken(LPAREN,'(',10,34)\n",
      "LexToken(RPAREN,')',10,35)\n",
      "LexToken(LBRACE,'{',10,37)\n",
      "LexToken(INT,'int',11,41)\n",
      "LexToken(ID,'i',11,45)\n",
      "LexToken(EQUALS,'=',11,47)\n",
      "LexToken(ID,'j',11,49)\n",
      "LexToken(SEMI,';',11,50)\n",
      "LexToken(INT,'int',12,54)\n",
      "LexToken(ID,'k',12,58)\n",
      "LexToken(EQUALS,'=',12,60)\n",
      "LexToken(ICONST,'3',12,62)\n",
      "LexToken(SEMI,';',12,63)\n",
      "LexToken(INT,'int',13,67)\n",
      "LexToken(ID,'p',13,71)\n",
      "LexToken(EQUALS,'=',13,73)\n",
      "LexToken(ICONST,'2',13,75)\n",
      "LexToken(TIMES,'*',13,77)\n",
      "LexToken(ID,'j',13,79)\n",
      "LexToken(SEMI,';',13,80)\n",
      "LexToken(ASSERT,'assert',14,84)\n",
      "LexToken(ID,'p',14,91)\n",
      "LexToken(EQ,'==',14,93)\n",
      "LexToken(ICONST,'2',14,96)\n",
      "LexToken(TIMES,'*',14,98)\n",
      "LexToken(ID,'i',14,100)\n",
      "LexToken(SEMI,';',14,101)\n",
      "LexToken(SCONST,'\"asdad\"',15,105)\n",
      "LexToken(RBRACE,'}',16,113)\n"
     ]
    }
   ],
   "source": [
    "# Tokenize\n",
    "while True:\n",
    "    tok = lexer.token()\n",
    "    # No more input\n",
    "    if not tok: \n",
    "        break      \n",
    "    print(tok)"
   ]
  },
  {
   "cell_type": "code",
   "execution_count": null,
   "metadata": {},
   "outputs": [],
   "source": []
  }
 ],
 "metadata": {
  "kernelspec": {
   "display_name": "Python 3",
   "language": "python",
   "name": "python3"
  },
  "language_info": {
   "codemirror_mode": {
    "name": "ipython",
    "version": 3
   },
   "file_extension": ".py",
   "mimetype": "text/x-python",
   "name": "python",
   "nbconvert_exporter": "python",
   "pygments_lexer": "ipython3",
   "version": "3.7.2"
  }
 },
 "nbformat": 4,
 "nbformat_minor": 2
}
