{
 "cells": [
  {
   "cell_type": "markdown",
   "metadata": {},
   "source": [
    "# Dúvidas\n",
    "1. Assign ou Equals?"
   ]
  },
  {
   "cell_type": "code",
   "execution_count": 2,
   "metadata": {},
   "outputs": [
    {
     "name": "stdout",
     "output_type": "stream",
     "text": [
      "Collecting ply\n",
      "  Downloading ply-3.11-py2.py3-none-any.whl (49 kB)\n",
      "\u001b[K     |████████████████████████████████| 49 kB 280 kB/s eta 0:00:01\n",
      "\u001b[?25hInstalling collected packages: ply\n",
      "Successfully installed ply-3.11\n"
     ]
    }
   ],
   "source": [
    "!pip3 install ply"
   ]
  },
  {
   "cell_type": "code",
   "execution_count": 3,
   "metadata": {},
   "outputs": [],
   "source": [
    "import ply.lex as lex"
   ]
  },
  {
   "cell_type": "markdown",
   "metadata": {},
   "source": [
    "### Part 1: List of Tokens"
   ]
  },
  {
   "cell_type": "code",
   "execution_count": 30,
   "metadata": {},
   "outputs": [],
   "source": [
    "# list of token names\n",
    "tokens = [\n",
    "    'PLUS',\n",
    "    'MINUS',\n",
    "    'TIMES',\n",
    "    'DIVIDE',\n",
    "    #'ASSIGN',\n",
    "    'SEMI',\n",
    "    'LPAREN',\n",
    "    'RPAREN',\n",
    "    'LBRACE',\n",
    "    'RBRACE',\n",
    "    'ICONST',\n",
    "    'FCONST',\n",
    "    'SCONST',\n",
    "    'ID',\n",
    "    'EQ',\n",
    "    'EQUALS',\n",
    "]"
   ]
  },
  {
   "cell_type": "code",
   "execution_count": 31,
   "metadata": {},
   "outputs": [],
   "source": [
    "# reserved words\n",
    "reserved = {\n",
    "    'if'     : 'IF',\n",
    "    'for'    : 'FOR',\n",
    "    'void'   : 'VOID',\n",
    "    'int'    : 'INT',\n",
    "    'float'  : 'FLOAT',\n",
    "    'char'   : 'CHAR',\n",
    "    'assert' : 'ASSERT',\n",
    "}"
   ]
  },
  {
   "cell_type": "code",
   "execution_count": 32,
   "metadata": {},
   "outputs": [],
   "source": [
    "tokens += list(reserved.values())"
   ]
  },
  {
   "cell_type": "markdown",
   "metadata": {},
   "source": [
    "### Part 2: Specification of Tokens"
   ]
  },
  {
   "cell_type": "markdown",
   "metadata": {},
   "source": [
    "'ASSIGN'\n",
    "'SCONST'"
   ]
  },
  {
   "cell_type": "code",
   "execution_count": 33,
   "metadata": {},
   "outputs": [],
   "source": [
    "t_PLUS    = r'\\+'\n",
    "t_MINUS   = r'-'\n",
    "t_TIMES   = r'\\*'\n",
    "t_DIVIDE  = r'/'\n",
    "t_EQUALS  = r'='\n",
    "t_LPAREN  = r'\\('\n",
    "t_RPAREN  = r'\\)'\n",
    "t_LBRACE  = r'\\{'\n",
    "t_RBRACE  = r'\\}'\n",
    "t_SEMI    = r';'\n",
    "t_EQ      = r'=='"
   ]
  },
  {
   "cell_type": "code",
   "execution_count": 34,
   "metadata": {},
   "outputs": [],
   "source": [
    "def t_ICONST(t):\n",
    "    r'[0-9]+'\n",
    "    t.value = int(t.value)\n",
    "   \n",
    "    return t"
   ]
  },
  {
   "cell_type": "code",
   "execution_count": 35,
   "metadata": {},
   "outputs": [],
   "source": [
    "def t_FCONST(t):\n",
    "    r'([0-9]+\\.[0-9]*)|([0-9]*\\.[0-9]+)'\n",
    "    t.value = float(t.value)\n",
    "        \n",
    "    return t"
   ]
  },
  {
   "cell_type": "code",
   "execution_count": 36,
   "metadata": {},
   "outputs": [],
   "source": [
    "def t_SCONST(t):\n",
    "    r'\\\"(\\\\.|[^\\\"\\\\])*\\\"'\n",
    "    t.value = str(t.value)\n",
    "    \n",
    "    return t"
   ]
  },
  {
   "cell_type": "code",
   "execution_count": 37,
   "metadata": {},
   "outputs": [],
   "source": [
    "def t_ID(t):\n",
    "    r'[a-zA-Z_][0-9a-zA-Z_]*'\n",
    "    # check for reserved words\n",
    "    t.type = reserved.get(t.value,'ID')\n",
    "\n",
    "    return t"
   ]
  },
  {
   "cell_type": "code",
   "execution_count": 38,
   "metadata": {},
   "outputs": [],
   "source": [
    "# define a rule so we can track line numbers\n",
    "def t_newline(t):\n",
    "    r'\\n+'\n",
    "    t.lexer.lineno += len(t.value)"
   ]
  },
  {
   "cell_type": "code",
   "execution_count": 39,
   "metadata": {},
   "outputs": [],
   "source": [
    "# define a comment /**/\n",
    "def t_COMMENT(t):\n",
    "    r'\\/\\*(.|\\n)*\\*\\/'\n",
    "    pass"
   ]
  },
  {
   "cell_type": "code",
   "execution_count": 40,
   "metadata": {},
   "outputs": [],
   "source": [
    "# define a comment //\n",
    "def t_COMMENT_2(t):\n",
    "    r'\\/\\/[^\\n\\r]*?(?:\\*\\)|[\\n\\r])'\n",
    "    pass"
   ]
  },
  {
   "cell_type": "code",
   "execution_count": 43,
   "metadata": {},
   "outputs": [],
   "source": [
    "# A string containing ignored characters (spaces and tabs)\n",
    "t_ignore  = ' \\t'"
   ]
  },
  {
   "cell_type": "markdown",
   "metadata": {},
   "source": [
    "### Part 3: Build Lexer"
   ]
  },
  {
   "cell_type": "code",
   "execution_count": 42,
   "metadata": {},
   "outputs": [],
   "source": [
    "# build the lexer\n",
    "lexer = lex.lex()"
   ]
  },
  {
   "cell_type": "markdown",
   "metadata": {},
   "source": [
    "### Part 4: Give input to the lexer"
   ]
  },
  {
   "cell_type": "code",
   "execution_count": 44,
   "metadata": {},
   "outputs": [],
   "source": [
    "input_lex = \"\"\"\n",
    "    /* comment */\n",
    "    int j = 3;\n",
    "    int main () {\n",
    "        int i = j;\n",
    "        int k = 3;\n",
    "        int p = 2 * j;\n",
    "        assert p == 2 * i;\n",
    "    }\n",
    "\"\"\""
   ]
  },
  {
   "cell_type": "code",
   "execution_count": null,
   "metadata": {},
   "outputs": [],
   "source": [
    "# give the lexer some input\n",
    "lexer.input(data)"
   ]
  },
  {
   "cell_type": "markdown",
   "metadata": {},
   "source": [
    "### Part 5: Tokenize"
   ]
  },
  {
   "cell_type": "code",
   "execution_count": null,
   "metadata": {},
   "outputs": [],
   "source": [
    "# Tokenize\n",
    "while True:\n",
    "    tok = lexer.token()\n",
    "    # No more input\n",
    "    if not tok: \n",
    "        break      \n",
    "    print(tok)"
   ]
  }
 ],
 "metadata": {
  "kernelspec": {
   "display_name": "Python 3",
   "language": "python",
   "name": "python3"
  },
  "language_info": {
   "codemirror_mode": {
    "name": "ipython",
    "version": 3
   },
   "file_extension": ".py",
   "mimetype": "text/x-python",
   "name": "python",
   "nbconvert_exporter": "python",
   "pygments_lexer": "ipython3",
   "version": "3.7.2"
  }
 },
 "nbformat": 4,
 "nbformat_minor": 2
}
